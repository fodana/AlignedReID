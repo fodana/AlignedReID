{
  "cells": [
    {
      "cell_type": "markdown",
      "metadata": {
        "id": "view-in-github",
        "colab_type": "text"
      },
      "source": [
        "<a href=\"https://colab.research.google.com/github/fodana/AlignedReID/blob/main/alignedreidalgorithm.ipynb\" target=\"_parent\"><img src=\"https://colab.research.google.com/assets/colab-badge.svg\" alt=\"Open In Colab\"/></a>"
      ]
    },
    {
      "cell_type": "code",
      "source": [
        "import os\n",
        "import subprocess\n",
        "\n",
        "global setupDone"
      ],
      "metadata": {
        "id": "kONwsBaJBlfW"
      },
      "execution_count": null,
      "outputs": []
    },
    {
      "cell_type": "code",
      "source": [
        "def checkRuntime():\n",
        "  gpuInfo = !nvidia-smi\n",
        "\n",
        "  try:\n",
        "    print(gpuInfo[1])\n",
        "\n",
        "  except Exception as e:\n",
        "    print(\"Runtime must use GPU\")\n",
        "    print(\"Please choose the GPU runtime\")\n",
        "    return False\n",
        "\n",
        "  return True\n"
      ],
      "metadata": {
        "id": "NR_eBOX9BhkX"
      },
      "execution_count": null,
      "outputs": []
    },
    {
      "cell_type": "code",
      "source": [
        "def setup(run, algo):\n",
        "\n",
        "  if run == True:\n",
        "    test = checkRuntime()\n",
        "    if test == False:\n",
        "      print(\"Setup Failed\")\n",
        "      print(\"Running results requires GPU runtime\")\n",
        "      print(\"For CPU runtime testing change 'run' to False\")\n",
        "      return False\n",
        "\n",
        "  dir = !pwd\n",
        "  if setupDone == True:\n",
        "    print(\"Repository found. Pulling...\")\n",
        "    !git pull origin main\n",
        "  else:\n",
        "    print(\"Cloning repository...\")\n",
        "    !git clone https://github.com/carterc64/CS460.git\n",
        "\n",
        "  if algo == 1:\n",
        "    %cd \"/content/CS460/Person-Reidentification-Project/AlignedReID\"\n",
        "  else:\n",
        "    %cd \"/content/CS460/Person-Reidentification-Project/cosine_metric_learning\"\n",
        "\n",
        "  %pwd\n",
        "\n",
        "  if setupDone == False:\n",
        "    !pip install tensorboardX\n",
        "\n",
        "  return True\n"
      ],
      "metadata": {
        "id": "fMvJQmA7_fn5"
      },
      "execution_count": null,
      "outputs": []
    },
    {
      "cell_type": "code",
      "source": [
        "def results(dataset, normalize, algo):\n",
        "\n",
        "  if algo == 1:\n",
        "\n",
        "    assert dataset in ['market1501', 'cuhk03', 'combined'], \"Dataset not implemented\"\n",
        "\n",
        "    script = '''python ./script/experiment/train.py -d '(0,)' --dataset {} --normalize_feature {} -glw 1 -llw 0 -idlw 0 --only_test true --exp_dir experiment --model_weight_file model_weight.pth'''\n",
        "\n",
        "    formated = script.format(dataset, str(normalize).lower())\n",
        "\n",
        "    print(\"Script created\")\n",
        "    print(formated)\n",
        "    print(\"Running\")\n",
        "    !{formated}\n",
        "\n",
        "\n"
      ],
      "metadata": {
        "id": "7bT6GtiUHQYp"
      },
      "execution_count": null,
      "outputs": []
    },
    {
      "cell_type": "code",
      "source": [
        "def run(dataset, normalize, algo):\n",
        "  if setupDone != True:\n",
        "    print(\"Setup must be completed before running\")\n",
        "    return\n",
        "\n",
        "  results(dataset, normalize, algo)"
      ],
      "metadata": {
        "id": "lCACllrcG_6j"
      },
      "execution_count": null,
      "outputs": []
    },
    {
      "cell_type": "code",
      "source": [
        "setupDone = False\n",
        "mode = False\n",
        "implementedDatasets = ['market1501', 'cuhk03', 'combined']\n",
        "normalize = False\n",
        "#1 is alginedreid\n",
        "#2 is cosine_metric_learning\n",
        "algo = 1\n"
      ],
      "metadata": {
        "id": "4hK8QE4BNuqC"
      },
      "execution_count": null,
      "outputs": []
    },
    {
      "cell_type": "code",
      "source": [
        "setupDone = setup(mode, algo)"
      ],
      "metadata": {
        "colab": {
          "base_uri": "https://localhost:8080/"
        },
        "id": "Pln95t90QGQ9",
        "outputId": "953116e7-41e9-4151-915b-505b8fa744f5"
      },
      "execution_count": null,
      "outputs": [
        {
          "output_type": "stream",
          "name": "stdout",
          "text": [
            "Cloning repository...\n",
            "Cloning into 'CS460'...\n",
            "remote: Enumerating objects: 142077, done.\u001b[K\n",
            "remote: Counting objects: 100% (23492/23492), done.\u001b[K\n",
            "remote: Compressing objects: 100% (17213/17213), done.\u001b[K\n"
          ]
        }
      ]
    },
    {
      "cell_type": "code",
      "source": [
        "run(implementedDatasets[0], normalize, algo)"
      ],
      "metadata": {
        "id": "ZTUCsOR8PGeq"
      },
      "execution_count": null,
      "outputs": []
    },
    {
      "cell_type": "code",
      "source": [
        "run(implementedDatasets[1], normalize, algo)"
      ],
      "metadata": {
        "id": "awforkyFPG1Y"
      },
      "execution_count": null,
      "outputs": []
    }
  ],
  "metadata": {
    "colab": {
      "provenance": [],
      "gpuType": "T4",
      "include_colab_link": true
    },
    "kernelspec": {
      "display_name": "Python 3",
      "name": "python3"
    },
    "language_info": {
      "name": "python"
    },
    "accelerator": "GPU"
  },
  "nbformat": 4,
  "nbformat_minor": 0
}